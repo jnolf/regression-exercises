{
 "cells": [
  {
   "cell_type": "code",
   "execution_count": 17,
   "id": "7995fe5c",
   "metadata": {},
   "outputs": [],
   "source": [
    "import sklearn.feature_selection\n",
    "from sklearn.model_selection import train_test_split\n",
    "import sklearn.linear_model\n",
    "import sklearn.feature_selection\n",
    "import sklearn.preprocessing\n",
    "\n",
    "import numpy as np\n",
    "import pandas as pd\n",
    "import math\n",
    "from pydataset import data"
   ]
  },
  {
   "cell_type": "markdown",
   "id": "a5eaaa4b",
   "metadata": {},
   "source": [
    "#### 1.) Load the tips dataset.\n"
   ]
  },
  {
   "cell_type": "code",
   "execution_count": 2,
   "id": "e4f813a2",
   "metadata": {},
   "outputs": [
    {
     "data": {
      "text/html": [
       "<div>\n",
       "<style scoped>\n",
       "    .dataframe tbody tr th:only-of-type {\n",
       "        vertical-align: middle;\n",
       "    }\n",
       "\n",
       "    .dataframe tbody tr th {\n",
       "        vertical-align: top;\n",
       "    }\n",
       "\n",
       "    .dataframe thead th {\n",
       "        text-align: right;\n",
       "    }\n",
       "</style>\n",
       "<table border=\"1\" class=\"dataframe\">\n",
       "  <thead>\n",
       "    <tr style=\"text-align: right;\">\n",
       "      <th></th>\n",
       "      <th>total_bill</th>\n",
       "      <th>tip</th>\n",
       "      <th>sex</th>\n",
       "      <th>smoker</th>\n",
       "      <th>day</th>\n",
       "      <th>time</th>\n",
       "      <th>size</th>\n",
       "    </tr>\n",
       "  </thead>\n",
       "  <tbody>\n",
       "    <tr>\n",
       "      <th>1</th>\n",
       "      <td>16.99</td>\n",
       "      <td>1.01</td>\n",
       "      <td>Female</td>\n",
       "      <td>No</td>\n",
       "      <td>Sun</td>\n",
       "      <td>Dinner</td>\n",
       "      <td>2</td>\n",
       "    </tr>\n",
       "    <tr>\n",
       "      <th>2</th>\n",
       "      <td>10.34</td>\n",
       "      <td>1.66</td>\n",
       "      <td>Male</td>\n",
       "      <td>No</td>\n",
       "      <td>Sun</td>\n",
       "      <td>Dinner</td>\n",
       "      <td>3</td>\n",
       "    </tr>\n",
       "  </tbody>\n",
       "</table>\n",
       "</div>"
      ],
      "text/plain": [
       "   total_bill   tip     sex smoker  day    time  size\n",
       "1       16.99  1.01  Female     No  Sun  Dinner     2\n",
       "2       10.34  1.66    Male     No  Sun  Dinner     3"
      ]
     },
     "execution_count": 2,
     "metadata": {},
     "output_type": "execute_result"
    }
   ],
   "source": [
    "df = data('tips')\n",
    "df.head(2)\n"
   ]
  },
  {
   "cell_type": "markdown",
   "id": "774fc424",
   "metadata": {},
   "source": [
    "##### Create a column named price_per_person. This should be the total bill divided by the party size."
   ]
  },
  {
   "cell_type": "code",
   "execution_count": 3,
   "id": "ce020e2c",
   "metadata": {},
   "outputs": [
    {
     "data": {
      "text/html": [
       "<div>\n",
       "<style scoped>\n",
       "    .dataframe tbody tr th:only-of-type {\n",
       "        vertical-align: middle;\n",
       "    }\n",
       "\n",
       "    .dataframe tbody tr th {\n",
       "        vertical-align: top;\n",
       "    }\n",
       "\n",
       "    .dataframe thead th {\n",
       "        text-align: right;\n",
       "    }\n",
       "</style>\n",
       "<table border=\"1\" class=\"dataframe\">\n",
       "  <thead>\n",
       "    <tr style=\"text-align: right;\">\n",
       "      <th></th>\n",
       "      <th>total_bill</th>\n",
       "      <th>tip</th>\n",
       "      <th>sex</th>\n",
       "      <th>smoker</th>\n",
       "      <th>day</th>\n",
       "      <th>time</th>\n",
       "      <th>party_size</th>\n",
       "      <th>price_per_person</th>\n",
       "    </tr>\n",
       "  </thead>\n",
       "  <tbody>\n",
       "    <tr>\n",
       "      <th>1</th>\n",
       "      <td>16.99</td>\n",
       "      <td>1.01</td>\n",
       "      <td>Female</td>\n",
       "      <td>No</td>\n",
       "      <td>Sun</td>\n",
       "      <td>Dinner</td>\n",
       "      <td>2</td>\n",
       "      <td>8.495000</td>\n",
       "    </tr>\n",
       "    <tr>\n",
       "      <th>2</th>\n",
       "      <td>10.34</td>\n",
       "      <td>1.66</td>\n",
       "      <td>Male</td>\n",
       "      <td>No</td>\n",
       "      <td>Sun</td>\n",
       "      <td>Dinner</td>\n",
       "      <td>3</td>\n",
       "      <td>3.446667</td>\n",
       "    </tr>\n",
       "  </tbody>\n",
       "</table>\n",
       "</div>"
      ],
      "text/plain": [
       "   total_bill   tip     sex smoker  day    time  party_size  price_per_person\n",
       "1       16.99  1.01  Female     No  Sun  Dinner           2          8.495000\n",
       "2       10.34  1.66    Male     No  Sun  Dinner           3          3.446667"
      ]
     },
     "execution_count": 3,
     "metadata": {},
     "output_type": "execute_result"
    }
   ],
   "source": [
    "df = df.rename(columns={'size':'party_size'})\n",
    "df['price_per_person'] = df.total_bill / df.party_size\n",
    "\n",
    "df.head(2)"
   ]
  },
  {
   "cell_type": "markdown",
   "id": "711e19df",
   "metadata": {},
   "source": [
    "##### Before using any of the methods discussed in the lesson, which features do you think would be most important for predicting the tip amount?"
   ]
  },
  {
   "cell_type": "markdown",
   "id": "4ae41424",
   "metadata": {},
   "source": [
    " - Tip Percentage"
   ]
  },
  {
   "cell_type": "code",
   "execution_count": 4,
   "id": "9abffc54",
   "metadata": {},
   "outputs": [],
   "source": [
    "df['tip_percentage'] = df.tip / df.total_bill"
   ]
  },
  {
   "cell_type": "markdown",
   "id": "b3af1085",
   "metadata": {},
   "source": [
    "###### Use select k best to select the top 2 features for predicting tip amount. What are they?"
   ]
  },
  {
   "cell_type": "code",
   "execution_count": 5,
   "id": "13d11fc6",
   "metadata": {},
   "outputs": [
    {
     "data": {
      "text/html": [
       "<div>\n",
       "<style scoped>\n",
       "    .dataframe tbody tr th:only-of-type {\n",
       "        vertical-align: middle;\n",
       "    }\n",
       "\n",
       "    .dataframe tbody tr th {\n",
       "        vertical-align: top;\n",
       "    }\n",
       "\n",
       "    .dataframe thead th {\n",
       "        text-align: right;\n",
       "    }\n",
       "</style>\n",
       "<table border=\"1\" class=\"dataframe\">\n",
       "  <thead>\n",
       "    <tr style=\"text-align: right;\">\n",
       "      <th></th>\n",
       "      <th>total_bill</th>\n",
       "      <th>tip</th>\n",
       "      <th>party_size</th>\n",
       "      <th>price_per_person</th>\n",
       "      <th>tip_percentage</th>\n",
       "    </tr>\n",
       "  </thead>\n",
       "  <tbody>\n",
       "    <tr>\n",
       "      <th>1</th>\n",
       "      <td>16.99</td>\n",
       "      <td>1.01</td>\n",
       "      <td>2</td>\n",
       "      <td>8.495000</td>\n",
       "      <td>0.059447</td>\n",
       "    </tr>\n",
       "    <tr>\n",
       "      <th>2</th>\n",
       "      <td>10.34</td>\n",
       "      <td>1.66</td>\n",
       "      <td>3</td>\n",
       "      <td>3.446667</td>\n",
       "      <td>0.160542</td>\n",
       "    </tr>\n",
       "  </tbody>\n",
       "</table>\n",
       "</div>"
      ],
      "text/plain": [
       "   total_bill   tip  party_size  price_per_person  tip_percentage\n",
       "1       16.99  1.01           2          8.495000        0.059447\n",
       "2       10.34  1.66           3          3.446667        0.160542"
      ]
     },
     "execution_count": 5,
     "metadata": {},
     "output_type": "execute_result"
    }
   ],
   "source": [
    "# Pay attention to numeric features\n",
    "df = df[['total_bill', 'tip', 'party_size', \n",
    "         'price_per_person','tip_percentage']]\n",
    "df.head(2)"
   ]
  },
  {
   "cell_type": "code",
   "execution_count": 6,
   "id": "4bd01e84",
   "metadata": {},
   "outputs": [
    {
     "data": {
      "text/plain": [
       "((136, 5), (59, 5), (49, 5))"
      ]
     },
     "execution_count": 6,
     "metadata": {},
     "output_type": "execute_result"
    }
   ],
   "source": [
    "train_validate, test = train_test_split(df, \n",
    "                                        test_size=0.2, \n",
    "                                        random_state=123)\n",
    "\n",
    "train, validate = train_test_split(train_validate, \n",
    "                                   test_size=0.3, \n",
    "                                   random_state=123)\n",
    "\n",
    "train.shape, validate.shape, test.shape"
   ]
  },
  {
   "cell_type": "code",
   "execution_count": 7,
   "id": "3e7ccdba",
   "metadata": {},
   "outputs": [],
   "source": [
    "# Define the X and y's while dropping the target \n",
    "target = 'tip'\n",
    "    \n",
    "# split train into X (dataframe, drop target) & y (series, keep target only)\n",
    "x_train = train.drop(columns=[target])\n",
    "y_train = train[target]\n",
    "\n",
    "# split validate into X (dataframe, drop target) & y (series, keep target only)\n",
    "x_val = validate.drop(columns=[target])\n",
    "y_val = validate[target]\n",
    "\n",
    "# split test into X (dataframe, drop target) & y (series, keep target only)\n",
    "x_test = test.drop(columns=[target])\n",
    "y_test = test[target]\n"
   ]
  },
  {
   "cell_type": "code",
   "execution_count": 8,
   "id": "75e2b496",
   "metadata": {},
   "outputs": [],
   "source": [
    "# Scale the numerical data to make it easier to compare\n",
    "   \n",
    "#Make the scaler\n",
    "scaler = sklearn.preprocessing.MinMaxScaler()\n",
    "\n",
    "#Fit the scaler\n",
    "scaler.fit(x_train)\n",
    "\n",
    "# Use the scaler\n",
    "x_train_scaled = scaler.transform(x_train)\n",
    "x_val_scaled = scaler.transform(x_val)\n",
    "x_test_scaled = scaler.transform(x_test)\n",
    "    "
   ]
  },
  {
   "cell_type": "code",
   "execution_count": 9,
   "id": "86961601",
   "metadata": {},
   "outputs": [
    {
     "data": {
      "text/plain": [
       "['total_bill', 'party_size']"
      ]
     },
     "execution_count": 9,
     "metadata": {},
     "output_type": "execute_result"
    }
   ],
   "source": [
    "# Make the Model\n",
    "kbest = sklearn.feature_selection.SelectKBest(\n",
    "    sklearn.feature_selection.f_regression, \n",
    "    k=2)\n",
    "# Fit the Model\n",
    "kbest.fit(x_train_scaled, y_train)\n",
    "\n",
    "# Use the model\n",
    "kb_feats = x_train.columns[kbest.get_support()].tolist()\n",
    "kb_feats"
   ]
  },
  {
   "cell_type": "markdown",
   "id": "69625024",
   "metadata": {},
   "source": [
    "##### Use recursive feature elimination to select the top 2 features for tip amount. What are they?\n"
   ]
  },
  {
   "cell_type": "code",
   "execution_count": 10,
   "id": "3cf96a25",
   "metadata": {},
   "outputs": [
    {
     "data": {
      "text/plain": [
       "Index(['total_bill', 'tip_percentage'], dtype='object')"
      ]
     },
     "execution_count": 10,
     "metadata": {},
     "output_type": "execute_result"
    }
   ],
   "source": [
    "# Make the model\n",
    "lm = sklearn.linear_model.LinearRegression(normalize = True)\n",
    "rfe = sklearn.feature_selection.RFE(lm, n_features_to_select=2)\n",
    "# Fit the model\n",
    "rfe.fit(x_train_scaled,y_train)\n",
    "\n",
    "#Use the model\n",
    "rfe_feats = x_train.columns[rfe.support_]\n",
    "rfe_feats"
   ]
  },
  {
   "cell_type": "markdown",
   "id": "2ab25ba6",
   "metadata": {},
   "source": [
    "##### Why do you think select k best and recursive feature elimination might give different answers for the top features? Does this change as you change the number of features your are selecting?"
   ]
  },
  {
   "cell_type": "markdown",
   "id": "26923f16",
   "metadata": {},
   "source": [
    " - Because....\n",
    "\n",
    " - It does change. total_bill is included when increasing RFE size to 3"
   ]
  },
  {
   "cell_type": "markdown",
   "id": "9bffa7fa",
   "metadata": {},
   "source": [
    "#### 2.) Write a function named select_kbest that takes in the predictors (X), the target (y), and the number of features to select (k) and returns the names of the top k selected features based on the SelectKBest class. Test your function with the tips dataset. You should see the same results as when you did the process manually."
   ]
  },
  {
   "cell_type": "code",
   "execution_count": 14,
   "id": "01d5413e",
   "metadata": {},
   "outputs": [],
   "source": [
    "def select_kbest(x, y, k):\n",
    "    # Make the Model\n",
    "    kbest = sklearn.feature_selection.SelectKBest(\n",
    "        sklearn.feature_selection.f_regression, \n",
    "        k=k)\n",
    "    \n",
    "    # Fit the Model\n",
    "    kbest.fit(x, y)\n",
    "    \n",
    "    # Use the model and make a list\n",
    "    return x.columns[kbest.get_support()].tolist()\n"
   ]
  },
  {
   "cell_type": "code",
   "execution_count": 12,
   "id": "07e896e0",
   "metadata": {},
   "outputs": [
    {
     "ename": "AttributeError",
     "evalue": "'numpy.ndarray' object has no attribute 'columns'",
     "output_type": "error",
     "traceback": [
      "\u001b[0;31m---------------------------------------------------------------------------\u001b[0m",
      "\u001b[0;31mAttributeError\u001b[0m                            Traceback (most recent call last)",
      "\u001b[0;32m/var/folders/x6/9q2vjsz90nx_0lgx5gr8g33w0000gn/T/ipykernel_11839/2036949391.py\u001b[0m in \u001b[0;36m<module>\u001b[0;34m\u001b[0m\n\u001b[0;32m----> 1\u001b[0;31m \u001b[0mselect_kbest\u001b[0m\u001b[0;34m(\u001b[0m\u001b[0mx_train_scaled\u001b[0m\u001b[0;34m,\u001b[0m \u001b[0my_train\u001b[0m\u001b[0;34m,\u001b[0m \u001b[0;36m2\u001b[0m\u001b[0;34m)\u001b[0m\u001b[0;34m\u001b[0m\u001b[0;34m\u001b[0m\u001b[0m\n\u001b[0m",
      "\u001b[0;32m/var/folders/x6/9q2vjsz90nx_0lgx5gr8g33w0000gn/T/ipykernel_11839/1485159958.py\u001b[0m in \u001b[0;36mselect_kbest\u001b[0;34m(x, y, k)\u001b[0m\n\u001b[1;32m      9\u001b[0m \u001b[0;34m\u001b[0m\u001b[0m\n\u001b[1;32m     10\u001b[0m     \u001b[0;31m# Use the model and make a list\u001b[0m\u001b[0;34m\u001b[0m\u001b[0;34m\u001b[0m\u001b[0m\n\u001b[0;32m---> 11\u001b[0;31m     \u001b[0;32mreturn\u001b[0m \u001b[0mx\u001b[0m\u001b[0;34m.\u001b[0m\u001b[0mcolumns\u001b[0m\u001b[0;34m[\u001b[0m\u001b[0mkbest\u001b[0m\u001b[0;34m.\u001b[0m\u001b[0mget_support\u001b[0m\u001b[0;34m(\u001b[0m\u001b[0;34m)\u001b[0m\u001b[0;34m]\u001b[0m\u001b[0;34m.\u001b[0m\u001b[0mtolist\u001b[0m\u001b[0;34m(\u001b[0m\u001b[0;34m)\u001b[0m\u001b[0;34m\u001b[0m\u001b[0;34m\u001b[0m\u001b[0m\n\u001b[0m",
      "\u001b[0;31mAttributeError\u001b[0m: 'numpy.ndarray' object has no attribute 'columns'"
     ]
    }
   ],
   "source": [
    "select_kbest(x_train_scaled, y_train, 2)"
   ]
  },
  {
   "cell_type": "markdown",
   "id": "88d39ba8",
   "metadata": {},
   "source": [
    "#### 3.) Write a function named rfe that takes in the predictors, the target, and the number of features to select. It should return the top k features based on the RFE class. Test your function with the tips dataset. You should see the same results as when you did the process manually."
   ]
  },
  {
   "cell_type": "code",
   "execution_count": 15,
   "id": "44f01da1",
   "metadata": {},
   "outputs": [],
   "source": [
    "def rfe(x, y, k): \n",
    "    # Make the model\n",
    "    lm = sklearn.linear_model.LinearRegression(normalize = True)\n",
    "    rfe = sklearn.feature_selection.RFE(lm, n_features_to_select=k)\n",
    "    \n",
    "    # Fit the model\n",
    "    rfe.fit(x,y)\n",
    "    \n",
    "    #Use the model\n",
    "    return x.columns[rfe.support_].tolist()\n"
   ]
  },
  {
   "cell_type": "code",
   "execution_count": 16,
   "id": "758b0f2a",
   "metadata": {},
   "outputs": [
    {
     "data": {
      "text/plain": [
       "['party_size', 'tip_percentage']"
      ]
     },
     "execution_count": 16,
     "metadata": {},
     "output_type": "execute_result"
    }
   ],
   "source": [
    "rfe(x_train, y_train, 2)\n"
   ]
  },
  {
   "cell_type": "markdown",
   "id": "f947bd4b",
   "metadata": {},
   "source": [
    "#### 4.) Load the swiss dataset and use all the other features to predict Fertility. Find the top 3 features using both select k best and recursive feature elimination (use the functions you just built to help you out)."
   ]
  },
  {
   "cell_type": "code",
   "execution_count": null,
   "id": "228eea2e",
   "metadata": {},
   "outputs": [],
   "source": [
    "df = data('swiss')\n"
   ]
  },
  {
   "cell_type": "code",
   "execution_count": null,
   "id": "302d548b",
   "metadata": {},
   "outputs": [],
   "source": [
    "df.head()\n"
   ]
  },
  {
   "cell_type": "code",
   "execution_count": null,
   "id": "4ab10c75",
   "metadata": {},
   "outputs": [],
   "source": [
    "train_validate, test = train_test_split(df, \n",
    "                                        test_size=.2, \n",
    "                                        random_state=123)\n",
    "\n",
    "train, validate = train_test_split(train_validate, \n",
    "                                   test_size=.3, \n",
    "                                   random_state=123)\n",
    "\n",
    "train.shape, validate.shape, test.shape\n"
   ]
  },
  {
   "cell_type": "code",
   "execution_count": null,
   "id": "17605bcb",
   "metadata": {},
   "outputs": [],
   "source": [
    "target = 'Fertility'\n",
    "# split train into X (dataframe, drop target) & y (series, keep target only)\n",
    "x_train = train.drop(columns=[target])\n",
    "y_train = train[target]\n",
    "\n",
    "# split validate into X (dataframe, drop target) & y (series, keep target only)\n",
    "x_val = validate.drop(columns=[target])\n",
    "y_val = validate[target]\n",
    "\n",
    "# split test into X (dataframe, drop target) & y (series, keep target only)\n",
    "x_test = test.drop(columns=[target])\n",
    "y_test = test[target]\n"
   ]
  },
  {
   "cell_type": "code",
   "execution_count": null,
   "id": "54a96b59",
   "metadata": {},
   "outputs": [],
   "source": [
    "#Make the scaler\n",
    "scaler = sklearn.preprocessing.MinMaxScaler()\n",
    "\n",
    "#Fit the scaler\n",
    "scaler.fit(x_train)\n",
    "\n",
    "# Use the scaler\n",
    "x_train_scaled = scaler.transform(x_train)\n",
    "x_val_scaled = scaler.transform(x_val)\n",
    "x_test_scaled = scaler.transform(x_test)\n"
   ]
  },
  {
   "cell_type": "code",
   "execution_count": null,
   "id": "bbab1da5",
   "metadata": {},
   "outputs": [],
   "source": [
    "x_train_scaled = pd.DataFrame(x_train_scaled, columns=x_train.columns)\n",
    "x_val_scaled = pd.DataFrame(x_val_scaled, columns=x_train.columns)\n",
    "x_test_scaled = pd.DataFrame(x_test_scaled, columns=x_train.columns)\n"
   ]
  },
  {
   "cell_type": "code",
   "execution_count": null,
   "id": "d2866a72",
   "metadata": {},
   "outputs": [],
   "source": [
    "select_kbest(x_train, y_train, 3)\n"
   ]
  },
  {
   "cell_type": "code",
   "execution_count": null,
   "id": "7e5eb459",
   "metadata": {},
   "outputs": [],
   "source": [
    "rfe(x_train, y_train, 3)\n"
   ]
  },
  {
   "cell_type": "code",
   "execution_count": null,
   "id": "5b407dbd",
   "metadata": {},
   "outputs": [],
   "source": []
  }
 ],
 "metadata": {
  "kernelspec": {
   "display_name": "Python 3 (ipykernel)",
   "language": "python",
   "name": "python3"
  },
  "language_info": {
   "codemirror_mode": {
    "name": "ipython",
    "version": 3
   },
   "file_extension": ".py",
   "mimetype": "text/x-python",
   "name": "python",
   "nbconvert_exporter": "python",
   "pygments_lexer": "ipython3",
   "version": "3.9.7"
  }
 },
 "nbformat": 4,
 "nbformat_minor": 5
}
