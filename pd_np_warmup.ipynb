{
 "cells": [
  {
   "cell_type": "code",
   "execution_count": 1,
   "id": "646e1863",
   "metadata": {},
   "outputs": [],
   "source": [
    "import numpy as np\n",
    "import pandas as pd\n",
    "\n",
    "np.random.seed(406)\n",
    "\n",
    "n = 5000\n",
    "df = pd.DataFrame({\n",
    "    'favorite_animal': np.random.choice(['cat', 'dog', 'frog', 'lemur', 'panda'], n),\n",
    "    'favorite_vegetable': np.random.choice(['brussel sprouts', 'potato', 'squash'], n),\n",
    "    'favorite_fruit': np.random.choice(['banana', 'apple', 'blueberries'], n),\n",
    "    'wears_glasses': np.random.choice(['yes', 'no'], n),\n",
    "    'netflix_consumption': np.random.normal(10, 2, n),\n",
    "    'open_browser_tabs': np.random.randint(2, 90, n),\n",
    "})"
   ]
  },
  {
   "cell_type": "markdown",
   "id": "afacf9d9",
   "metadata": {},
   "source": [
    "What is the highest amount of Netflix consumptions?"
   ]
  },
  {
   "cell_type": "code",
   "execution_count": 2,
   "id": "2aa2b075",
   "metadata": {},
   "outputs": [
    {
     "data": {
      "text/html": [
       "<div>\n",
       "<style scoped>\n",
       "    .dataframe tbody tr th:only-of-type {\n",
       "        vertical-align: middle;\n",
       "    }\n",
       "\n",
       "    .dataframe tbody tr th {\n",
       "        vertical-align: top;\n",
       "    }\n",
       "\n",
       "    .dataframe thead th {\n",
       "        text-align: right;\n",
       "    }\n",
       "</style>\n",
       "<table border=\"1\" class=\"dataframe\">\n",
       "  <thead>\n",
       "    <tr style=\"text-align: right;\">\n",
       "      <th></th>\n",
       "      <th>favorite_animal</th>\n",
       "      <th>favorite_vegetable</th>\n",
       "      <th>favorite_fruit</th>\n",
       "      <th>wears_glasses</th>\n",
       "      <th>netflix_consumption</th>\n",
       "      <th>open_browser_tabs</th>\n",
       "    </tr>\n",
       "  </thead>\n",
       "  <tbody>\n",
       "    <tr>\n",
       "      <th>0</th>\n",
       "      <td>lemur</td>\n",
       "      <td>potato</td>\n",
       "      <td>apple</td>\n",
       "      <td>yes</td>\n",
       "      <td>8.313351</td>\n",
       "      <td>44</td>\n",
       "    </tr>\n",
       "    <tr>\n",
       "      <th>1</th>\n",
       "      <td>panda</td>\n",
       "      <td>potato</td>\n",
       "      <td>apple</td>\n",
       "      <td>yes</td>\n",
       "      <td>11.801073</td>\n",
       "      <td>10</td>\n",
       "    </tr>\n",
       "    <tr>\n",
       "      <th>2</th>\n",
       "      <td>cat</td>\n",
       "      <td>squash</td>\n",
       "      <td>blueberries</td>\n",
       "      <td>yes</td>\n",
       "      <td>10.105141</td>\n",
       "      <td>35</td>\n",
       "    </tr>\n",
       "    <tr>\n",
       "      <th>3</th>\n",
       "      <td>lemur</td>\n",
       "      <td>squash</td>\n",
       "      <td>apple</td>\n",
       "      <td>no</td>\n",
       "      <td>11.024605</td>\n",
       "      <td>70</td>\n",
       "    </tr>\n",
       "    <tr>\n",
       "      <th>4</th>\n",
       "      <td>dog</td>\n",
       "      <td>brussel sprouts</td>\n",
       "      <td>apple</td>\n",
       "      <td>yes</td>\n",
       "      <td>6.732698</td>\n",
       "      <td>73</td>\n",
       "    </tr>\n",
       "  </tbody>\n",
       "</table>\n",
       "</div>"
      ],
      "text/plain": [
       "  favorite_animal favorite_vegetable favorite_fruit wears_glasses  \\\n",
       "0           lemur             potato          apple           yes   \n",
       "1           panda             potato          apple           yes   \n",
       "2             cat             squash    blueberries           yes   \n",
       "3           lemur             squash          apple            no   \n",
       "4             dog    brussel sprouts          apple           yes   \n",
       "\n",
       "   netflix_consumption  open_browser_tabs  \n",
       "0             8.313351                 44  \n",
       "1            11.801073                 10  \n",
       "2            10.105141                 35  \n",
       "3            11.024605                 70  \n",
       "4             6.732698                 73  "
      ]
     },
     "execution_count": 2,
     "metadata": {},
     "output_type": "execute_result"
    }
   ],
   "source": [
    "df.head()"
   ]
  },
  {
   "cell_type": "code",
   "execution_count": 3,
   "id": "5effd7ba",
   "metadata": {},
   "outputs": [
    {
     "data": {
      "text/plain": [
       "17.534818515438925"
      ]
     },
     "execution_count": 3,
     "metadata": {},
     "output_type": "execute_result"
    }
   ],
   "source": [
    "df.netflix_consumption.max()"
   ]
  },
  {
   "cell_type": "markdown",
   "id": "88c5be21",
   "metadata": {},
   "source": [
    "How many people wear glasses? What's the percentage?"
   ]
  },
  {
   "cell_type": "code",
   "execution_count": 42,
   "id": "a0b75f60",
   "metadata": {},
   "outputs": [
    {
     "data": {
      "text/plain": [
       "2555"
      ]
     },
     "execution_count": 42,
     "metadata": {},
     "output_type": "execute_result"
    }
   ],
   "source": [
    "(df.wears_glasses =='yes').sum()"
   ]
  },
  {
   "cell_type": "code",
   "execution_count": 35,
   "id": "ee6579b6",
   "metadata": {},
   "outputs": [
    {
     "data": {
      "text/plain": [
       "2555"
      ]
     },
     "execution_count": 35,
     "metadata": {},
     "output_type": "execute_result"
    }
   ],
   "source": [
    "df.wears_glasses.value_counts()['yes']"
   ]
  },
  {
   "cell_type": "code",
   "execution_count": 36,
   "id": "e1e192ab",
   "metadata": {},
   "outputs": [
    {
     "data": {
      "text/plain": [
       "yes    0.511\n",
       "no     0.489\n",
       "Name: wears_glasses, dtype: float64"
      ]
     },
     "execution_count": 36,
     "metadata": {},
     "output_type": "execute_result"
    }
   ],
   "source": [
    "df.wears_glasses.value_counts('yes')"
   ]
  },
  {
   "cell_type": "code",
   "execution_count": 43,
   "id": "da5433c4",
   "metadata": {},
   "outputs": [
    {
     "data": {
      "text/plain": [
       "0.511"
      ]
     },
     "execution_count": 43,
     "metadata": {},
     "output_type": "execute_result"
    }
   ],
   "source": [
    "(df.wears_glasses =='yes').mean()"
   ]
  },
  {
   "cell_type": "markdown",
   "id": "21e3df1e",
   "metadata": {},
   "source": [
    "What is the most common favorite animal?\n"
   ]
  },
  {
   "cell_type": "markdown",
   "id": "1962e224",
   "metadata": {},
   "source": [
    "How many people's favorite animal is a dog?"
   ]
  },
  {
   "cell_type": "code",
   "execution_count": 37,
   "id": "349c847f",
   "metadata": {},
   "outputs": [
    {
     "data": {
      "text/plain": [
       "1002"
      ]
     },
     "execution_count": 37,
     "metadata": {},
     "output_type": "execute_result"
    }
   ],
   "source": [
    "df.favorite_animal.value_counts()['dog']"
   ]
  },
  {
   "cell_type": "code",
   "execution_count": null,
   "id": "e75aa2e1",
   "metadata": {},
   "outputs": [],
   "source": []
  },
  {
   "cell_type": "code",
   "execution_count": 38,
   "id": "3f68a1ab",
   "metadata": {},
   "outputs": [
    {
     "data": {
      "text/plain": [
       "0    lemur\n",
       "dtype: object"
      ]
     },
     "execution_count": 38,
     "metadata": {},
     "output_type": "execute_result"
    }
   ],
   "source": [
    "df.favorite_animal.mode()"
   ]
  },
  {
   "cell_type": "markdown",
   "id": "d6b88100",
   "metadata": {},
   "source": [
    "What is the average netflix consumpton for people that prefer brussel sprouts?"
   ]
  },
  {
   "cell_type": "code",
   "execution_count": 44,
   "id": "d79a87fc",
   "metadata": {},
   "outputs": [
    {
     "data": {
      "text/plain": [
       "10.00847154798366"
      ]
     },
     "execution_count": 44,
     "metadata": {},
     "output_type": "execute_result"
    }
   ],
   "source": [
    "df[df.favorite_vegetable == 'brussel sprouts'].netflix_consumption.mean()"
   ]
  },
  {
   "cell_type": "markdown",
   "id": "68e4db32",
   "metadata": {},
   "source": [
    "What is the most common favorite for people who wear glasses and have more than 40 open browser tabs?"
   ]
  },
  {
   "cell_type": "code",
   "execution_count": 46,
   "id": "44532b33",
   "metadata": {},
   "outputs": [
    {
     "data": {
      "text/plain": [
       "blueberries    498\n",
       "apple          477\n",
       "banana         472\n",
       "Name: favorite_fruit, dtype: int64"
      ]
     },
     "execution_count": 46,
     "metadata": {},
     "output_type": "execute_result"
    }
   ],
   "source": [
    "subset = df[df.wears_glasses == 'yes']\n",
    "subset = subset[subset.open_browser_tabs>40]\n",
    "subset.favorite_fruit.value_counts()"
   ]
  },
  {
   "cell_type": "code",
   "execution_count": null,
   "id": "4873e082",
   "metadata": {},
   "outputs": [],
   "source": []
  }
 ],
 "metadata": {
  "kernelspec": {
   "display_name": "Python 3 (ipykernel)",
   "language": "python",
   "name": "python3"
  },
  "language_info": {
   "codemirror_mode": {
    "name": "ipython",
    "version": 3
   },
   "file_extension": ".py",
   "mimetype": "text/x-python",
   "name": "python",
   "nbconvert_exporter": "python",
   "pygments_lexer": "ipython3",
   "version": "3.9.7"
  }
 },
 "nbformat": 4,
 "nbformat_minor": 5
}
