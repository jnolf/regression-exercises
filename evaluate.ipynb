{
 "cells": [
  {
   "cell_type": "code",
   "execution_count": 1,
   "id": "a319d527",
   "metadata": {},
   "outputs": [],
   "source": [
    "import numpy as np\n",
    "import pandas as pd\n",
    "import seaborn as sns\n",
    "import matplotlib.pyplot as plt\n",
    "from pydataset import data\n",
    "\n",
    "from scipy import stats\n",
    "from sklearn.metrics import mean_squared_error, r2_score, explained_variance_score\n",
    "\n",
    "from sklearn.linear_model import LinearRegression\n",
    "from sklearn.feature_selection import f_regression \n",
    "from math import sqrt\n",
    "import matplotlib.pyplot as plt\n",
    "import warnings\n",
    "warnings.filterwarnings('ignore')\n",
    "\n",
    "from statsmodels.formula.api import ols\n",
    "\n",
    "import evaluate"
   ]
  },
  {
   "cell_type": "markdown",
   "id": "4985c1b2",
   "metadata": {},
   "source": [
    "### Do you work for this exercise in either a jupyter notebook named evaluate within your regression-exercises repository. By the end of this exercise you will also create a python script named evaluate, so the overall deliverables for this exercise are the python script and jupyter notebook both with the name evaluate within your regression-exercises repo."
   ]
  },
  {
   "cell_type": "markdown",
   "id": "f0d9a6d9",
   "metadata": {},
   "source": [
    "#### 1.) Load the tips dataset from either pydataset or seaborn."
   ]
  },
  {
   "cell_type": "code",
   "execution_count": 2,
   "id": "00cf9842",
   "metadata": {},
   "outputs": [
    {
     "data": {
      "text/html": [
       "<div>\n",
       "<style scoped>\n",
       "    .dataframe tbody tr th:only-of-type {\n",
       "        vertical-align: middle;\n",
       "    }\n",
       "\n",
       "    .dataframe tbody tr th {\n",
       "        vertical-align: top;\n",
       "    }\n",
       "\n",
       "    .dataframe thead th {\n",
       "        text-align: right;\n",
       "    }\n",
       "</style>\n",
       "<table border=\"1\" class=\"dataframe\">\n",
       "  <thead>\n",
       "    <tr style=\"text-align: right;\">\n",
       "      <th></th>\n",
       "      <th>total_bill</th>\n",
       "      <th>tip</th>\n",
       "      <th>sex</th>\n",
       "      <th>smoker</th>\n",
       "      <th>day</th>\n",
       "      <th>time</th>\n",
       "      <th>size</th>\n",
       "    </tr>\n",
       "  </thead>\n",
       "  <tbody>\n",
       "    <tr>\n",
       "      <th>1</th>\n",
       "      <td>16.99</td>\n",
       "      <td>1.01</td>\n",
       "      <td>Female</td>\n",
       "      <td>No</td>\n",
       "      <td>Sun</td>\n",
       "      <td>Dinner</td>\n",
       "      <td>2</td>\n",
       "    </tr>\n",
       "    <tr>\n",
       "      <th>2</th>\n",
       "      <td>10.34</td>\n",
       "      <td>1.66</td>\n",
       "      <td>Male</td>\n",
       "      <td>No</td>\n",
       "      <td>Sun</td>\n",
       "      <td>Dinner</td>\n",
       "      <td>3</td>\n",
       "    </tr>\n",
       "    <tr>\n",
       "      <th>3</th>\n",
       "      <td>21.01</td>\n",
       "      <td>3.50</td>\n",
       "      <td>Male</td>\n",
       "      <td>No</td>\n",
       "      <td>Sun</td>\n",
       "      <td>Dinner</td>\n",
       "      <td>3</td>\n",
       "    </tr>\n",
       "    <tr>\n",
       "      <th>4</th>\n",
       "      <td>23.68</td>\n",
       "      <td>3.31</td>\n",
       "      <td>Male</td>\n",
       "      <td>No</td>\n",
       "      <td>Sun</td>\n",
       "      <td>Dinner</td>\n",
       "      <td>2</td>\n",
       "    </tr>\n",
       "    <tr>\n",
       "      <th>5</th>\n",
       "      <td>24.59</td>\n",
       "      <td>3.61</td>\n",
       "      <td>Female</td>\n",
       "      <td>No</td>\n",
       "      <td>Sun</td>\n",
       "      <td>Dinner</td>\n",
       "      <td>4</td>\n",
       "    </tr>\n",
       "  </tbody>\n",
       "</table>\n",
       "</div>"
      ],
      "text/plain": [
       "   total_bill   tip     sex smoker  day    time  size\n",
       "1       16.99  1.01  Female     No  Sun  Dinner     2\n",
       "2       10.34  1.66    Male     No  Sun  Dinner     3\n",
       "3       21.01  3.50    Male     No  Sun  Dinner     3\n",
       "4       23.68  3.31    Male     No  Sun  Dinner     2\n",
       "5       24.59  3.61  Female     No  Sun  Dinner     4"
      ]
     },
     "execution_count": 2,
     "metadata": {},
     "output_type": "execute_result"
    }
   ],
   "source": [
    "tips = data('tips')\n",
    "tips.head()"
   ]
  },
  {
   "cell_type": "markdown",
   "id": "77b60b47",
   "metadata": {},
   "source": [
    "#### 2.) Fit a linear regression model (ordinary least squares) and compute yhat, predictions of tip using total_bill.\n"
   ]
  },
  {
   "cell_type": "code",
   "execution_count": 3,
   "id": "1ecbfc6f",
   "metadata": {},
   "outputs": [],
   "source": [
    "x = pd.DataFrame(tips.total_bill)\n",
    "y = tips.tip\n",
    "\n",
    "new_tips = pd.concat([x,y], axis =1)"
   ]
  },
  {
   "cell_type": "code",
   "execution_count": 4,
   "id": "b14592f0",
   "metadata": {},
   "outputs": [
    {
     "data": {
      "text/html": [
       "<div>\n",
       "<style scoped>\n",
       "    .dataframe tbody tr th:only-of-type {\n",
       "        vertical-align: middle;\n",
       "    }\n",
       "\n",
       "    .dataframe tbody tr th {\n",
       "        vertical-align: top;\n",
       "    }\n",
       "\n",
       "    .dataframe thead th {\n",
       "        text-align: right;\n",
       "    }\n",
       "</style>\n",
       "<table border=\"1\" class=\"dataframe\">\n",
       "  <thead>\n",
       "    <tr style=\"text-align: right;\">\n",
       "      <th></th>\n",
       "      <th>total_bill</th>\n",
       "      <th>tip</th>\n",
       "      <th>yhat</th>\n",
       "    </tr>\n",
       "  </thead>\n",
       "  <tbody>\n",
       "    <tr>\n",
       "      <th>1</th>\n",
       "      <td>16.99</td>\n",
       "      <td>1.01</td>\n",
       "      <td>2.704636</td>\n",
       "    </tr>\n",
       "    <tr>\n",
       "      <th>2</th>\n",
       "      <td>10.34</td>\n",
       "      <td>1.66</td>\n",
       "      <td>2.006223</td>\n",
       "    </tr>\n",
       "    <tr>\n",
       "      <th>3</th>\n",
       "      <td>21.01</td>\n",
       "      <td>3.50</td>\n",
       "      <td>3.126835</td>\n",
       "    </tr>\n",
       "    <tr>\n",
       "      <th>4</th>\n",
       "      <td>23.68</td>\n",
       "      <td>3.31</td>\n",
       "      <td>3.407250</td>\n",
       "    </tr>\n",
       "    <tr>\n",
       "      <th>5</th>\n",
       "      <td>24.59</td>\n",
       "      <td>3.61</td>\n",
       "      <td>3.502822</td>\n",
       "    </tr>\n",
       "  </tbody>\n",
       "</table>\n",
       "</div>"
      ],
      "text/plain": [
       "   total_bill   tip      yhat\n",
       "1       16.99  1.01  2.704636\n",
       "2       10.34  1.66  2.006223\n",
       "3       21.01  3.50  3.126835\n",
       "4       23.68  3.31  3.407250\n",
       "5       24.59  3.61  3.502822"
      ]
     },
     "execution_count": 4,
     "metadata": {},
     "output_type": "execute_result"
    }
   ],
   "source": [
    "# Fit the model\n",
    "ols = LinearRegression().fit(x, y)\n",
    "\n",
    "# Set prediction\n",
    "yhat = ols.predict(x)\n",
    "\n",
    "# Create new predictions column\n",
    "new_tips['yhat'] = yhat\n",
    "\n",
    "#Take a look\n",
    "new_tips.head()"
   ]
  },
  {
   "cell_type": "code",
   "execution_count": 5,
   "id": "9f540da3",
   "metadata": {},
   "outputs": [
    {
     "data": {
      "text/html": [
       "<div>\n",
       "<style scoped>\n",
       "    .dataframe tbody tr th:only-of-type {\n",
       "        vertical-align: middle;\n",
       "    }\n",
       "\n",
       "    .dataframe tbody tr th {\n",
       "        vertical-align: top;\n",
       "    }\n",
       "\n",
       "    .dataframe thead th {\n",
       "        text-align: right;\n",
       "    }\n",
       "</style>\n",
       "<table border=\"1\" class=\"dataframe\">\n",
       "  <thead>\n",
       "    <tr style=\"text-align: right;\">\n",
       "      <th></th>\n",
       "      <th>total_bill</th>\n",
       "      <th>tip</th>\n",
       "      <th>yhat</th>\n",
       "      <th>baseline</th>\n",
       "    </tr>\n",
       "  </thead>\n",
       "  <tbody>\n",
       "    <tr>\n",
       "      <th>1</th>\n",
       "      <td>16.99</td>\n",
       "      <td>1.01</td>\n",
       "      <td>2.704636</td>\n",
       "      <td>2.998279</td>\n",
       "    </tr>\n",
       "    <tr>\n",
       "      <th>2</th>\n",
       "      <td>10.34</td>\n",
       "      <td>1.66</td>\n",
       "      <td>2.006223</td>\n",
       "      <td>2.998279</td>\n",
       "    </tr>\n",
       "    <tr>\n",
       "      <th>3</th>\n",
       "      <td>21.01</td>\n",
       "      <td>3.50</td>\n",
       "      <td>3.126835</td>\n",
       "      <td>2.998279</td>\n",
       "    </tr>\n",
       "    <tr>\n",
       "      <th>4</th>\n",
       "      <td>23.68</td>\n",
       "      <td>3.31</td>\n",
       "      <td>3.407250</td>\n",
       "      <td>2.998279</td>\n",
       "    </tr>\n",
       "    <tr>\n",
       "      <th>5</th>\n",
       "      <td>24.59</td>\n",
       "      <td>3.61</td>\n",
       "      <td>3.502822</td>\n",
       "      <td>2.998279</td>\n",
       "    </tr>\n",
       "  </tbody>\n",
       "</table>\n",
       "</div>"
      ],
      "text/plain": [
       "   total_bill   tip      yhat  baseline\n",
       "1       16.99  1.01  2.704636  2.998279\n",
       "2       10.34  1.66  2.006223  2.998279\n",
       "3       21.01  3.50  3.126835  2.998279\n",
       "4       23.68  3.31  3.407250  2.998279\n",
       "5       24.59  3.61  3.502822  2.998279"
      ]
     },
     "execution_count": 5,
     "metadata": {},
     "output_type": "execute_result"
    }
   ],
   "source": [
    "# Create a baseline column\n",
    "new_tips['baseline'] = new_tips.tip.mean()\n",
    "new_tips.head()"
   ]
  },
  {
   "cell_type": "markdown",
   "id": "a174c0ce",
   "metadata": {},
   "source": [
    "#### 3.) Plot the residuals for the linear regression model that you made."
   ]
  },
  {
   "cell_type": "code",
   "execution_count": 6,
   "id": "d39dd016",
   "metadata": {},
   "outputs": [
    {
     "data": {
      "text/html": [
       "<div>\n",
       "<style scoped>\n",
       "    .dataframe tbody tr th:only-of-type {\n",
       "        vertical-align: middle;\n",
       "    }\n",
       "\n",
       "    .dataframe tbody tr th {\n",
       "        vertical-align: top;\n",
       "    }\n",
       "\n",
       "    .dataframe thead th {\n",
       "        text-align: right;\n",
       "    }\n",
       "</style>\n",
       "<table border=\"1\" class=\"dataframe\">\n",
       "  <thead>\n",
       "    <tr style=\"text-align: right;\">\n",
       "      <th></th>\n",
       "      <th>total_bill</th>\n",
       "      <th>tip</th>\n",
       "      <th>yhat</th>\n",
       "      <th>baseline</th>\n",
       "      <th>residual</th>\n",
       "      <th>yhat_baseline</th>\n",
       "      <th>residual_baseline</th>\n",
       "      <th>residual_baseline^2</th>\n",
       "    </tr>\n",
       "  </thead>\n",
       "  <tbody>\n",
       "    <tr>\n",
       "      <th>1</th>\n",
       "      <td>16.99</td>\n",
       "      <td>1.01</td>\n",
       "      <td>2.704636</td>\n",
       "      <td>2.998279</td>\n",
       "      <td>-1.694636</td>\n",
       "      <td>2.998279</td>\n",
       "      <td>1.988279</td>\n",
       "      <td>3.953252</td>\n",
       "    </tr>\n",
       "    <tr>\n",
       "      <th>2</th>\n",
       "      <td>10.34</td>\n",
       "      <td>1.66</td>\n",
       "      <td>2.006223</td>\n",
       "      <td>2.998279</td>\n",
       "      <td>-0.346223</td>\n",
       "      <td>2.998279</td>\n",
       "      <td>1.338279</td>\n",
       "      <td>1.790990</td>\n",
       "    </tr>\n",
       "    <tr>\n",
       "      <th>3</th>\n",
       "      <td>21.01</td>\n",
       "      <td>3.50</td>\n",
       "      <td>3.126835</td>\n",
       "      <td>2.998279</td>\n",
       "      <td>0.373165</td>\n",
       "      <td>2.998279</td>\n",
       "      <td>-0.501721</td>\n",
       "      <td>0.251724</td>\n",
       "    </tr>\n",
       "    <tr>\n",
       "      <th>4</th>\n",
       "      <td>23.68</td>\n",
       "      <td>3.31</td>\n",
       "      <td>3.407250</td>\n",
       "      <td>2.998279</td>\n",
       "      <td>-0.097250</td>\n",
       "      <td>2.998279</td>\n",
       "      <td>-0.311721</td>\n",
       "      <td>0.097170</td>\n",
       "    </tr>\n",
       "    <tr>\n",
       "      <th>5</th>\n",
       "      <td>24.59</td>\n",
       "      <td>3.61</td>\n",
       "      <td>3.502822</td>\n",
       "      <td>2.998279</td>\n",
       "      <td>0.107178</td>\n",
       "      <td>2.998279</td>\n",
       "      <td>-0.611721</td>\n",
       "      <td>0.374203</td>\n",
       "    </tr>\n",
       "  </tbody>\n",
       "</table>\n",
       "</div>"
      ],
      "text/plain": [
       "   total_bill   tip      yhat  baseline  residual  yhat_baseline  \\\n",
       "1       16.99  1.01  2.704636  2.998279 -1.694636       2.998279   \n",
       "2       10.34  1.66  2.006223  2.998279 -0.346223       2.998279   \n",
       "3       21.01  3.50  3.126835  2.998279  0.373165       2.998279   \n",
       "4       23.68  3.31  3.407250  2.998279 -0.097250       2.998279   \n",
       "5       24.59  3.61  3.502822  2.998279  0.107178       2.998279   \n",
       "\n",
       "   residual_baseline  residual_baseline^2  \n",
       "1           1.988279             3.953252  \n",
       "2           1.338279             1.790990  \n",
       "3          -0.501721             0.251724  \n",
       "4          -0.311721             0.097170  \n",
       "5          -0.611721             0.374203  "
      ]
     },
     "execution_count": 6,
     "metadata": {},
     "output_type": "execute_result"
    }
   ],
   "source": [
    "# Calculate the residuals, yhat, and res baseline. Add them as a new \n",
    "# column\n",
    "new_tips['residual'] = new_tips.tip - new_tips.yhat\n",
    "\n",
    "new_tips['yhat_baseline'] = new_tips['tip'].mean()\n",
    "\n",
    "new_tips['residual_baseline'] = new_tips['yhat_baseline'] - new_tips['tip']\n",
    "\n",
    "new_tips['residual_baseline^2'] = new_tips.residual_baseline ** 2\n",
    "\n",
    "new_tips.head()"
   ]
  },
  {
   "cell_type": "code",
   "execution_count": 7,
   "id": "06a96950",
   "metadata": {},
   "outputs": [
    {
     "data": {
      "text/plain": [
       "Text(0.5, 1.0, 'Ordinary Least Means Residuals')"
      ]
     },
     "execution_count": 7,
     "metadata": {},
     "output_type": "execute_result"
    },
    {
     "data": {
      "image/png": "[encoded data removed]",
      "text/plain": [
       "<Figure size 432x288 with 1 Axes>"
      ]
     },
     "metadata": {
      "needs_background": "light"
     },
     "output_type": "display_data"
    }
   ],
   "source": [
    "plt.scatter(new_tips.total_bill, new_tips.residual)\n",
    "plt.xlabel('Total Bill Amounts')\n",
    "plt.ylabel('Residuals')\n",
    "plt.title('Ordinary Least Means Residuals')"
   ]
  },
  {
   "cell_type": "markdown",
   "id": "aead74ad",
   "metadata": {},
   "source": [
    "#### 4.) Calculate the sum of squared errors, explained sum of squares, total sum of squares, mean squared error, and root mean squared error for your model."
   ]
  },
  {
   "cell_type": "markdown",
   "id": "fc8fe436",
   "metadata": {},
   "source": [
    "#### Sum of Squared Errors"
   ]
  },
  {
   "cell_type": "code",
   "execution_count": 8,
   "id": "9a77330b",
   "metadata": {},
   "outputs": [
    {
     "name": "stdout",
     "output_type": "stream",
     "text": [
      "The SSE for the OLS model is 252.79\n"
     ]
    }
   ],
   "source": [
    "SSE = mean_squared_error(new_tips.tip, new_tips.yhat)*len(new_tips)\n",
    "\n",
    "print('The SSE for the OLS model is', '{:.2f}'.format(SSE))"
   ]
  },
  {
   "cell_type": "markdown",
   "id": "3c4ad05c",
   "metadata": {},
   "source": [
    "#### Explained Sum of Squares"
   ]
  },
  {
   "cell_type": "code",
   "execution_count": 9,
   "id": "b11d8678",
   "metadata": {},
   "outputs": [
    {
     "name": "stdout",
     "output_type": "stream",
     "text": [
      "The ESS for the OLS model is 212.42\n"
     ]
    }
   ],
   "source": [
    "ESS = sum((new_tips.yhat - new_tips.baseline)**2)\n",
    "\n",
    "print('The ESS for the OLS model is', '{:.2f}'.format(ESS))"
   ]
  },
  {
   "cell_type": "markdown",
   "id": "14145c2e",
   "metadata": {},
   "source": [
    "#### Total Sum of Squares"
   ]
  },
  {
   "cell_type": "code",
   "execution_count": 10,
   "id": "5342e027",
   "metadata": {},
   "outputs": [
    {
     "name": "stdout",
     "output_type": "stream",
     "text": [
      "The TSS for the OLS model is 465.21\n"
     ]
    }
   ],
   "source": [
    "TSS = ESS + SSE\n",
    "\n",
    "print('The TSS for the OLS model is', '{:.2f}'.format(TSS))"
   ]
  },
  {
   "cell_type": "markdown",
   "id": "59dda146",
   "metadata": {},
   "source": [
    "#### Mean Squared Error"
   ]
  },
  {
   "cell_type": "code",
   "execution_count": 11,
   "id": "062c1195",
   "metadata": {},
   "outputs": [
    {
     "name": "stdout",
     "output_type": "stream",
     "text": [
      "The MSE for the OLS model is 1.04\n"
     ]
    }
   ],
   "source": [
    "MSE = SSE/len(new_tips)\n",
    "\n",
    "print('The MSE for the OLS model is', '{:.2f}'.format(MSE))"
   ]
  },
  {
   "cell_type": "markdown",
   "id": "c949c7fc",
   "metadata": {},
   "source": [
    "#### Root Mean Squared Error"
   ]
  },
  {
   "cell_type": "code",
   "execution_count": 12,
   "id": "ae25b6b1",
   "metadata": {},
   "outputs": [
    {
     "name": "stdout",
     "output_type": "stream",
     "text": [
      "The RMSE for the OLS model is 1.02\n"
     ]
    }
   ],
   "source": [
    "RMSE = sqrt(MSE)\n",
    "\n",
    "print('The RMSE for the OLS model is', '{:.2f}'.format(RMSE))"
   ]
  },
  {
   "cell_type": "markdown",
   "id": "4bc3cd3f",
   "metadata": {},
   "source": [
    "#### 5.) Calculate the sum of squared errors, mean squared error, and root mean squared error for the baseline model (i.e. a model that always predicts the average tip amount)."
   ]
  },
  {
   "cell_type": "markdown",
   "id": "6d9739e1",
   "metadata": {},
   "source": [
    "#### SSE for Baseline"
   ]
  },
  {
   "cell_type": "code",
   "execution_count": 13,
   "id": "02f01110",
   "metadata": {},
   "outputs": [
    {
     "name": "stdout",
     "output_type": "stream",
     "text": [
      "The SSE of the baseline is 465.21\n"
     ]
    }
   ],
   "source": [
    "SSE_baseline = sum(new_tips['residual_baseline^2'])\n",
    "\n",
    "print('The SSE of the baseline is', '{:.2f}'.format(SSE_baseline))"
   ]
  },
  {
   "cell_type": "markdown",
   "id": "2cdf1bd4",
   "metadata": {},
   "source": [
    "#### MSE for Baseline"
   ]
  },
  {
   "cell_type": "code",
   "execution_count": 14,
   "id": "6a624e03",
   "metadata": {},
   "outputs": [
    {
     "name": "stdout",
     "output_type": "stream",
     "text": [
      "The MSE for the baseline is 1.91\n"
     ]
    }
   ],
   "source": [
    "MSE_baseline = SSE_baseline/len(new_tips)\n",
    "\n",
    "print('The MSE for the baseline is', '{:.2f}'.format(MSE_baseline))"
   ]
  },
  {
   "cell_type": "markdown",
   "id": "dc265fe1",
   "metadata": {},
   "source": [
    "#### RMSE for Baseline"
   ]
  },
  {
   "cell_type": "code",
   "execution_count": 15,
   "id": "9563a3c7",
   "metadata": {},
   "outputs": [
    {
     "name": "stdout",
     "output_type": "stream",
     "text": [
      "The RMSE for the baseline is 1.38\n"
     ]
    }
   ],
   "source": [
    "RMSE_baseline = sqrt(MSE_baseline)\n",
    "\n",
    "print('The RMSE for the baseline is', '{:.2f}'.format(RMSE_baseline))"
   ]
  },
  {
   "cell_type": "markdown",
   "id": "f5a103a4",
   "metadata": {},
   "source": [
    "#### 6.) Write python code that compares the sum of squared errors for your model against the sum of squared errors for the baseline model and outputs whether or not your model performs better than the baseline model."
   ]
  },
  {
   "cell_type": "code",
   "execution_count": 16,
   "id": "90d78aa4",
   "metadata": {},
   "outputs": [
    {
     "data": {
      "text/html": [
       "<div>\n",
       "<style scoped>\n",
       "    .dataframe tbody tr th:only-of-type {\n",
       "        vertical-align: middle;\n",
       "    }\n",
       "\n",
       "    .dataframe tbody tr th {\n",
       "        vertical-align: top;\n",
       "    }\n",
       "\n",
       "    .dataframe thead th {\n",
       "        text-align: right;\n",
       "    }\n",
       "</style>\n",
       "<table border=\"1\" class=\"dataframe\">\n",
       "  <thead>\n",
       "    <tr style=\"text-align: right;\">\n",
       "      <th></th>\n",
       "      <th>metric</th>\n",
       "      <th>model_error</th>\n",
       "      <th>baseline_error</th>\n",
       "      <th>beats_baseline</th>\n",
       "    </tr>\n",
       "  </thead>\n",
       "  <tbody>\n",
       "    <tr>\n",
       "      <th>0</th>\n",
       "      <td>SSE</td>\n",
       "      <td>252.788744</td>\n",
       "      <td>465.212477</td>\n",
       "      <td>True</td>\n",
       "    </tr>\n",
       "    <tr>\n",
       "      <th>1</th>\n",
       "      <td>MSE</td>\n",
       "      <td>1.036019</td>\n",
       "      <td>1.906609</td>\n",
       "      <td>True</td>\n",
       "    </tr>\n",
       "    <tr>\n",
       "      <th>2</th>\n",
       "      <td>RMSE</td>\n",
       "      <td>1.017850</td>\n",
       "      <td>1.380800</td>\n",
       "      <td>True</td>\n",
       "    </tr>\n",
       "  </tbody>\n",
       "</table>\n",
       "</div>"
      ],
      "text/plain": [
       "  metric  model_error  baseline_error  beats_baseline\n",
       "0    SSE   252.788744      465.212477            True\n",
       "1    MSE     1.036019        1.906609            True\n",
       "2   RMSE     1.017850        1.380800            True"
      ]
     },
     "execution_count": 16,
     "metadata": {},
     "output_type": "execute_result"
    }
   ],
   "source": [
    "df_eval = pd.DataFrame(np.array(['SSE','MSE','RMSE']), columns=['metric'])\n",
    "df_baseline_eval = pd.DataFrame(np.array(['SSE_baseline','MSE_baseline','RMSE_baseline']), columns=['metric'])\n",
    "df_difference = pd.DataFrame(np.array(['SSE - SSE_baseline','MSE - MSE_baseline','RMSE - RMSE_baseline']), columns=['metric'])\n",
    "\n",
    "\n",
    "df_eval['model_error'] = np.array([SSE, MSE, RMSE])\n",
    "df_eval['baseline_error'] = np.array([SSE_baseline, MSE_baseline, RMSE_baseline])\n",
    "df_eval['beats_baseline'] = df_eval.baseline_error > df_eval.model_error\n",
    "\n",
    "df_eval"
   ]
  },
  {
   "cell_type": "markdown",
   "id": "cb7c1429",
   "metadata": {},
   "source": [
    "#### 7.) What is the amount of variance explained in your model?"
   ]
  },
  {
   "cell_type": "code",
   "execution_count": 17,
   "id": "f7072fba",
   "metadata": {},
   "outputs": [
    {
     "name": "stdout",
     "output_type": "stream",
     "text": [
      "The amount of variance explained is 0.46\n"
     ]
    }
   ],
   "source": [
    "print('The amount of variance explained is', '{:.2f}'\n",
    "      .format(r2_score(new_tips.tip, new_tips.yhat)))"
   ]
  },
  {
   "cell_type": "markdown",
   "id": "5f8ce29e",
   "metadata": {},
   "source": [
    "#### 8.) Is your model better than the baseline model?"
   ]
  },
  {
   "cell_type": "markdown",
   "id": "f1b44de7",
   "metadata": {},
   "source": [
    "Yep!!!"
   ]
  },
  {
   "cell_type": "markdown",
   "id": "ea200b46",
   "metadata": {},
   "source": [
    "#### 9.) Create an 'evaluate.py' with the following functions:"
   ]
  },
  {
   "cell_type": "markdown",
   "id": "e700539f",
   "metadata": {},
   "source": [
    " - plot_residuals(y, yhat): creates a residual plot\n",
    " - regression_errors(y, yhat): returns the following values:\n",
    " - sum of squared errors (SSE)\n",
    " - explained sum of squares (ESS)\n",
    " - total sum of squares (TSS)\n",
    " - mean squared error (MSE)\n",
    " - root mean squared error (RMSE)\n",
    " - baseline_mean_errors(y): computes the SSE, MSE, and RMSE for the baseline model\n",
    " - better_than_baseline(y, yhat): returns true if your model performs better than the baseline, otherwise false"
   ]
  },
  {
   "cell_type": "code",
   "execution_count": 18,
   "id": "d0fd8f54",
   "metadata": {},
   "outputs": [
    {
     "data": {
      "image/png": "[encoded data removed]",
      "text/plain": [
       "<Figure size 432x288 with 1 Axes>"
      ]
     },
     "metadata": {
      "needs_background": "light"
     },
     "output_type": "display_data"
    }
   ],
   "source": [
    "# Test: \n",
    "evaluate.plot_residuals(new_tips.tip,yhat)"
   ]
  },
  {
   "cell_type": "code",
   "execution_count": null,
   "id": "c4900b26",
   "metadata": {},
   "outputs": [],
   "source": []
  },
  {
   "cell_type": "code",
   "execution_count": null,
   "id": "67485409",
   "metadata": {},
   "outputs": [],
   "source": []
  }
 ],
 "metadata": {
  "kernelspec": {
   "display_name": "Python 3 (ipykernel)",
   "language": "python",
   "name": "python3"
  },
  "language_info": {
   "codemirror_mode": {
    "name": "ipython",
    "version": 3
   },
   "file_extension": ".py",
   "mimetype": "text/x-python",
   "name": "python",
   "nbconvert_exporter": "python",
   "pygments_lexer": "ipython3",
   "version": "3.9.7"
  }
 },
 "nbformat": 4,
 "nbformat_minor": 5
}
